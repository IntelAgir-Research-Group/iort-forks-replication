{
 "cells": [
  {
   "cell_type": "code",
   "execution_count": 73,
   "id": "4e4dd39c",
   "metadata": {},
   "outputs": [],
   "source": [
    "import pandas as pd\n",
    "import matplotlib.pyplot as plt\n",
    "\n",
    "# Carregar o arquivo CSV em um DataFrame\n",
    "df = pd.read_csv('csv/forks_year_atualizado.csv')"
   ]
  },
  {
   "cell_type": "code",
   "execution_count": 74,
   "id": "58ff9dd3",
   "metadata": {},
   "outputs": [],
   "source": [
    "# Converter as colunas de datas para o formato apropriado\n",
    "df['created'] = pd.to_datetime(df['created'])\n",
    "df['updated'] = pd.to_datetime(df['updated'])\n",
    "df['year'] = df['created'].dt.year\n",
    "\n",
    "# Contar o número de criações por ano\n",
    "creations_per_year = df['year'].value_counts().sort_index()"
   ]
  },
  {
   "cell_type": "code",
   "execution_count": null,
   "id": "ab795ffd",
   "metadata": {},
   "outputs": [],
   "source": []
  },
  {
   "cell_type": "code",
   "execution_count": 80,
   "id": "3c0db105",
   "metadata": {},
   "outputs": [
    {
     "data": {
      "image/png": "[encoded data removed]",
      "text/plain": [
       "<Figure size 432x288 with 1 Axes>"
      ]
     },
     "metadata": {
      "needs_background": "light"
     },
     "output_type": "display_data"
    }
   ],
   "source": [
    "plt.bar(creations_per_year.index - 0.2, creations_per_year.values, width=0.4, label='Criações')\n",
    "plt.bar(updates_per_year.index + 0.2, updates_per_year.values, width=0.4, label='Atualizações')\n",
    "plt.xlabel('Ano', fontsize=14)\n",
    "plt.ylabel('Quantidade', fontsize=14)\n",
    "#plt.xticks(creations_per_year.index)\n",
    "plt.legend()\n",
    "plt.grid(False)\n",
    "\n",
    "plt.savefig(\"figs/criacoes-atualizacoes.pdf\")\n",
    "\n",
    "plt.show()"
   ]
  },
  {
   "cell_type": "code",
   "execution_count": null,
   "id": "639570c5",
   "metadata": {},
   "outputs": [],
   "source": []
  },
  {
   "cell_type": "code",
   "execution_count": null,
   "id": "aad67eb9",
   "metadata": {},
   "outputs": [],
   "source": []
  },
  {
   "cell_type": "code",
   "execution_count": 31,
   "id": "6133b0e1",
   "metadata": {},
   "outputs": [],
   "source": []
  },
  {
   "cell_type": "code",
   "execution_count": null,
   "id": "0a71c3a8",
   "metadata": {},
   "outputs": [],
   "source": []
  },
  {
   "cell_type": "code",
   "execution_count": null,
   "id": "a9da6288",
   "metadata": {},
   "outputs": [],
   "source": []
  }
 ],
 "metadata": {
  "kernelspec": {
   "display_name": "Python 3 (ipykernel)",
   "language": "python",
   "name": "python3"
  },
  "language_info": {
   "codemirror_mode": {
    "name": "ipython",
    "version": 3
   },
   "file_extension": ".py",
   "mimetype": "text/x-python",
   "name": "python",
   "nbconvert_exporter": "python",
   "pygments_lexer": "ipython3",
   "version": "3.10.12"
  }
 },
 "nbformat": 4,
 "nbformat_minor": 5
}
